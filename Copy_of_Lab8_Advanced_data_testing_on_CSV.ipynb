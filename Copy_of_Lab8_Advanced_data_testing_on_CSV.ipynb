{
  "nbformat": 4,
  "nbformat_minor": 0,
  "metadata": {
    "colab": {
      "provenance": [],
      "include_colab_link": true
    },
    "kernelspec": {
      "name": "python3",
      "display_name": "Python 3"
    },
    "language_info": {
      "name": "python"
    }
  },
  "cells": [
    {
      "cell_type": "markdown",
      "metadata": {
        "id": "view-in-github",
        "colab_type": "text"
      },
      "source": [
        "<a href=\"https://colab.research.google.com/github/royarkaofficial/DataOps-Lab8-31th-Dec-2024-Adv-Data-Testing-on-CSV/blob/main/Copy_of_Lab8_Advanced_data_testing_on_CSV.ipynb\" target=\"_parent\"><img src=\"https://colab.research.google.com/assets/colab-badge.svg\" alt=\"Open In Colab\"/></a>"
      ]
    },
    {
      "cell_type": "markdown",
      "source": [
        "Objective\n",
        "Participants will load a CSV file, perform data validation, clean the dataset, and analyze it for common issues like missing values, outliers, inconsistencies, and duplicates. They will also visualize the dataset to identify patterns and anomalies.\n",
        "\n",
        "Prerequisites\n",
        "Basic knowledge of Python and pandas.\n",
        "Familiarity with CSV file handling.\n",
        "Dataset: Use a dataset with multiple columns (e.g., sales, customer demographics, or e-commerce data) containing missing values, outliers, and inconsistencies."
      ],
      "metadata": {
        "id": "xCHL3utgyXtE"
      }
    },
    {
      "cell_type": "markdown",
      "source": [
        "**Steps for the Lab**\n",
        "Step 1: Load the Dataset\n",
        "Download or provide a CSV dataset (e.g., \"ecommerce_data.csv\").\n",
        "\n",
        "The dataset should contain columns such as CustomerID, Age, Gender, AnnualIncome, SpendingScore, etc., with some missing or inconsistent entries."
      ],
      "metadata": {
        "id": "6Yu32islyQgc"
      }
    },
    {
      "cell_type": "code",
      "source": [
        "import pandas as pd\n",
        "\n",
        "#load the CSV file into a DataFrame\n",
        "df = pd.read_csv('/content/sample_data/ecommerce_ip_data (1).csv')\n",
        "\n",
        "#Show the first few rows of the dataset\n",
        "print(df.head())"
      ],
      "metadata": {
        "colab": {
          "base_uri": "https://localhost:8080/"
        },
        "id": "LGAVzfIJynUb",
        "outputId": "f4681639-b84e-43ee-9278-df0cf206674d"
      },
      "execution_count": null,
      "outputs": [
        {
          "output_type": "stream",
          "name": "stdout",
          "text": [
            "   CustomerID   Age   Gender  AnnualIncome  SpendingScore\n",
            "0          82  48.0   Female       47350.0             88\n",
            "1         143  31.0  Unknown       70517.0             90\n",
            "2          32  44.0  Unknown       85417.0              1\n",
            "3          30  42.0        F      146131.0             78\n",
            "4         119  59.0   Female       57841.0             27\n"
          ]
        }
      ]
    },
    {
      "cell_type": "markdown",
      "source": [
        "Step 2: Understand the Dataset\n",
        "Explore the dataset by printing out summary statistics and getting a sense of the data."
      ],
      "metadata": {
        "id": "dfo-zJr3yqNl"
      }
    },
    {
      "cell_type": "code",
      "source": [
        "#summary statistics for numerical columns\n",
        "print(df.describe())\n",
        "print(\"\\n--------------\\n\")\n",
        "\n",
        "#Check for the data types and non-null counts in each columns\n",
        "print(df.info())"
      ],
      "metadata": {
        "colab": {
          "base_uri": "https://localhost:8080/"
        },
        "id": "gPq7n2Q9yvb0",
        "outputId": "b1fc5233-d235-4c81-82cb-3b6c9ccb4d6b"
      },
      "execution_count": null,
      "outputs": [
        {
          "output_type": "stream",
          "name": "stdout",
          "text": [
            "       CustomerID         Age   AnnualIncome  SpendingScore\n",
            "count   155.00000  150.000000     150.000000     155.000000\n",
            "mean     75.43871   41.173333   89173.053333      56.754839\n",
            "std      43.12005   16.506963   45188.699683      33.036843\n",
            "min       1.00000   -1.000000   20728.000000       1.000000\n",
            "25%      38.50000   28.250000   55853.250000      27.000000\n",
            "50%      76.00000   41.000000   85463.500000      55.000000\n",
            "75%     112.50000   54.750000  115265.750000      82.500000\n",
            "max     150.00000   69.000000  262292.000000     110.000000\n",
            "\n",
            "--------------\n",
            "\n",
            "<class 'pandas.core.frame.DataFrame'>\n",
            "RangeIndex: 155 entries, 0 to 154\n",
            "Data columns (total 5 columns):\n",
            " #   Column         Non-Null Count  Dtype  \n",
            "---  ------         --------------  -----  \n",
            " 0   CustomerID     155 non-null    int64  \n",
            " 1   Age            150 non-null    float64\n",
            " 2   Gender         155 non-null    object \n",
            " 3   AnnualIncome   150 non-null    float64\n",
            " 4   SpendingScore  155 non-null    int64  \n",
            "dtypes: float64(2), int64(2), object(1)\n",
            "memory usage: 6.2+ KB\n",
            "None\n"
          ]
        }
      ]
    },
    {
      "cell_type": "markdown",
      "source": [
        "Step 3: Identify and Handle Missing Values\n",
        "Detect missing values in the dataset using pandas"
      ],
      "metadata": {
        "id": "Wc2syLLmyvwh"
      }
    },
    {
      "cell_type": "code",
      "source": [
        "#Check the missing values\n",
        "missing_values = df.isnull().sum()\n",
        "print(missing_values)"
      ],
      "metadata": {
        "colab": {
          "base_uri": "https://localhost:8080/"
        },
        "id": "S1gYpgTEyzDT",
        "outputId": "79aed331-7655-450a-a0d5-5841c210dcb8"
      },
      "execution_count": null,
      "outputs": [
        {
          "output_type": "stream",
          "name": "stdout",
          "text": [
            "CustomerID       0\n",
            "Age              5\n",
            "Gender           0\n",
            "AnnualIncome     5\n",
            "SpendingScore    0\n",
            "dtype: int64\n"
          ]
        }
      ]
    },
    {
      "cell_type": "markdown",
      "source": [
        "Handle missing values by:\n",
        "\n",
        "Imputing: Filling missing values using methods such as mean, median, or mode.\n",
        "\n",
        "Dropping: Removing rows/columns with missing values if appropriate."
      ],
      "metadata": {
        "id": "eSmWrQ1nyzWa"
      }
    },
    {
      "cell_type": "code",
      "source": [
        "#Impute the missing Age values with the mean\n",
        "df['Age'].fillna(df['Age'].mean(), inplace=True)\n",
        "\n",
        "#Drop the rows where Annual income is missing\n",
        "df.dropna(subset=['AnnualIncome'], inplace=True)"
      ],
      "metadata": {
        "colab": {
          "base_uri": "https://localhost:8080/"
        },
        "id": "dgv-sjJUy263",
        "outputId": "cff10275-7345-4308-d5b8-80489160f0ce"
      },
      "execution_count": null,
      "outputs": [
        {
          "output_type": "stream",
          "name": "stderr",
          "text": [
            "<ipython-input-5-1a0ee35a3c33>:2: FutureWarning: A value is trying to be set on a copy of a DataFrame or Series through chained assignment using an inplace method.\n",
            "The behavior will change in pandas 3.0. This inplace method will never work because the intermediate object on which we are setting values always behaves as a copy.\n",
            "\n",
            "For example, when doing 'df[col].method(value, inplace=True)', try using 'df.method({col: value}, inplace=True)' or df[col] = df[col].method(value) instead, to perform the operation inplace on the original object.\n",
            "\n",
            "\n",
            "  df['Age'].fillna(df['Age'].mean(), inplace=True)\n"
          ]
        }
      ]
    },
    {
      "cell_type": "markdown",
      "source": [
        "Step 4: Check for Duplicates\n",
        "Find and remove duplicate records in the dataset."
      ],
      "metadata": {
        "id": "y_17Z5yyy2jx"
      }
    },
    {
      "cell_type": "code",
      "source": [
        "#check for duplicates\n",
        "duplicates = df.duplicated().sum()\n",
        "print(f\"Number of duplicate rows: {duplicates}\")\n",
        "\n",
        "#remove duplicates\n",
        "df.drop_duplicates(inplace=True)"
      ],
      "metadata": {
        "colab": {
          "base_uri": "https://localhost:8080/"
        },
        "id": "Uq2pATdxy5Ru",
        "outputId": "34c091cd-c9d2-44e1-e090-c36e6b9f2afc"
      },
      "execution_count": null,
      "outputs": [
        {
          "output_type": "stream",
          "name": "stdout",
          "text": [
            "Number of duplicate rows: 5\n"
          ]
        }
      ]
    },
    {
      "cell_type": "markdown",
      "source": [
        "Step 5: Identify and Handle Outliers\n",
        "Detect outliers using statistical techniques such as the IQR (Interquartile Range) method or z-scores.**IQR**"
      ],
      "metadata": {
        "id": "PE_7q01wy7Ib"
      }
    },
    {
      "cell_type": "markdown",
      "source": [
        "**IQR**"
      ],
      "metadata": {
        "id": "Ik0QgZ2Vmxmd"
      }
    },
    {
      "cell_type": "code",
      "source": [
        "#Calculate IRQ for Annual Income\n",
        "\n",
        "Q1 = df['AnnualIncome'].quantile(0.25)\n",
        "Q3 = df['AnnualIncome'].quantile(0.75)\n",
        "IQR = Q3 - Q1\n",
        "\n",
        "#Define the lower and upper bound for outliers\n",
        "lower_bound = Q1 - 1.5 * IQR\n",
        "upper_bound = Q3 + 1.5 * IQR\n",
        "\n",
        "#Filter the outliers in AnnualIncome\n",
        "outliers = df[(df['AnnualIncome'] < lower_bound) | (df['AnnualIncome'] > upper_bound)]\n",
        "\n",
        "#Print the outliers\n",
        "print(outliers)"
      ],
      "metadata": {
        "colab": {
          "base_uri": "https://localhost:8080/"
        },
        "id": "oQwoZ2rmy74B",
        "outputId": "e64c2413-1778-4595-dd64-d39c2903065e"
      },
      "execution_count": null,
      "outputs": [
        {
          "output_type": "stream",
          "name": "stdout",
          "text": [
            "     CustomerID   Age   Gender  AnnualIncome  SpendingScore\n",
            "13           76  43.0   Female      208415.0             51\n",
            "73           26  50.0        M      261813.0             74\n",
            "87          126  29.0  Unknown      223833.0             21\n",
            "121         101  62.0    Other      262292.0            110\n",
            "128          51  31.0        M      227712.0            110\n"
          ]
        }
      ]
    },
    {
      "cell_type": "markdown",
      "source": [
        "Handle outliers by either:\n",
        "\n",
        "Removing them from the dataset.\n",
        "Capping them within a reasonable range.\n",
        "Treating them as separate cases for further analysis."
      ],
      "metadata": {
        "id": "HC6bNI80y-Vt"
      }
    },
    {
      "cell_type": "code",
      "source": [
        "#Remove the outliers from the dataset\n",
        "df = df[(df['AnnualIncome'] >= lower_bound) & (df['AnnualIncome'] <= upper_bound)]\n",
        "print(\"Removing the outliers\")\n",
        "df"
      ],
      "metadata": {
        "colab": {
          "base_uri": "https://localhost:8080/",
          "height": 441
        },
        "id": "Idp9RA7ky_TY",
        "outputId": "c3ec2865-14de-4ee5-a7ec-a212f17cec73"
      },
      "execution_count": null,
      "outputs": [
        {
          "output_type": "stream",
          "name": "stdout",
          "text": [
            "Removing the outliers\n"
          ]
        },
        {
          "output_type": "execute_result",
          "data": {
            "text/plain": [
              "     CustomerID   Age   Gender  AnnualIncome  SpendingScore\n",
              "0            82  48.0   Female       47350.0             88\n",
              "1           143  31.0  Unknown       70517.0             90\n",
              "2            32  44.0  Unknown       85417.0              1\n",
              "3            30  42.0        F      146131.0             78\n",
              "4           119  59.0   Female       57841.0             27\n",
              "..          ...   ...      ...           ...            ...\n",
              "150          72  59.0     Male       40764.0             82\n",
              "151         107  18.0        F      112920.0             80\n",
              "152          15  57.0  Unknown       55247.0             92\n",
              "153          93  64.0        M      127112.0             74\n",
              "154         103  42.0        F      125891.0             43\n",
              "\n",
              "[140 rows x 5 columns]"
            ],
            "text/html": [
              "\n",
              "  <div id=\"df-e807f337-2094-4091-b9f1-4e9f7270a7e2\" class=\"colab-df-container\">\n",
              "    <div>\n",
              "<style scoped>\n",
              "    .dataframe tbody tr th:only-of-type {\n",
              "        vertical-align: middle;\n",
              "    }\n",
              "\n",
              "    .dataframe tbody tr th {\n",
              "        vertical-align: top;\n",
              "    }\n",
              "\n",
              "    .dataframe thead th {\n",
              "        text-align: right;\n",
              "    }\n",
              "</style>\n",
              "<table border=\"1\" class=\"dataframe\">\n",
              "  <thead>\n",
              "    <tr style=\"text-align: right;\">\n",
              "      <th></th>\n",
              "      <th>CustomerID</th>\n",
              "      <th>Age</th>\n",
              "      <th>Gender</th>\n",
              "      <th>AnnualIncome</th>\n",
              "      <th>SpendingScore</th>\n",
              "    </tr>\n",
              "  </thead>\n",
              "  <tbody>\n",
              "    <tr>\n",
              "      <th>0</th>\n",
              "      <td>82</td>\n",
              "      <td>48.0</td>\n",
              "      <td>Female</td>\n",
              "      <td>47350.0</td>\n",
              "      <td>88</td>\n",
              "    </tr>\n",
              "    <tr>\n",
              "      <th>1</th>\n",
              "      <td>143</td>\n",
              "      <td>31.0</td>\n",
              "      <td>Unknown</td>\n",
              "      <td>70517.0</td>\n",
              "      <td>90</td>\n",
              "    </tr>\n",
              "    <tr>\n",
              "      <th>2</th>\n",
              "      <td>32</td>\n",
              "      <td>44.0</td>\n",
              "      <td>Unknown</td>\n",
              "      <td>85417.0</td>\n",
              "      <td>1</td>\n",
              "    </tr>\n",
              "    <tr>\n",
              "      <th>3</th>\n",
              "      <td>30</td>\n",
              "      <td>42.0</td>\n",
              "      <td>F</td>\n",
              "      <td>146131.0</td>\n",
              "      <td>78</td>\n",
              "    </tr>\n",
              "    <tr>\n",
              "      <th>4</th>\n",
              "      <td>119</td>\n",
              "      <td>59.0</td>\n",
              "      <td>Female</td>\n",
              "      <td>57841.0</td>\n",
              "      <td>27</td>\n",
              "    </tr>\n",
              "    <tr>\n",
              "      <th>...</th>\n",
              "      <td>...</td>\n",
              "      <td>...</td>\n",
              "      <td>...</td>\n",
              "      <td>...</td>\n",
              "      <td>...</td>\n",
              "    </tr>\n",
              "    <tr>\n",
              "      <th>150</th>\n",
              "      <td>72</td>\n",
              "      <td>59.0</td>\n",
              "      <td>Male</td>\n",
              "      <td>40764.0</td>\n",
              "      <td>82</td>\n",
              "    </tr>\n",
              "    <tr>\n",
              "      <th>151</th>\n",
              "      <td>107</td>\n",
              "      <td>18.0</td>\n",
              "      <td>F</td>\n",
              "      <td>112920.0</td>\n",
              "      <td>80</td>\n",
              "    </tr>\n",
              "    <tr>\n",
              "      <th>152</th>\n",
              "      <td>15</td>\n",
              "      <td>57.0</td>\n",
              "      <td>Unknown</td>\n",
              "      <td>55247.0</td>\n",
              "      <td>92</td>\n",
              "    </tr>\n",
              "    <tr>\n",
              "      <th>153</th>\n",
              "      <td>93</td>\n",
              "      <td>64.0</td>\n",
              "      <td>M</td>\n",
              "      <td>127112.0</td>\n",
              "      <td>74</td>\n",
              "    </tr>\n",
              "    <tr>\n",
              "      <th>154</th>\n",
              "      <td>103</td>\n",
              "      <td>42.0</td>\n",
              "      <td>F</td>\n",
              "      <td>125891.0</td>\n",
              "      <td>43</td>\n",
              "    </tr>\n",
              "  </tbody>\n",
              "</table>\n",
              "<p>140 rows × 5 columns</p>\n",
              "</div>\n",
              "    <div class=\"colab-df-buttons\">\n",
              "\n",
              "  <div class=\"colab-df-container\">\n",
              "    <button class=\"colab-df-convert\" onclick=\"convertToInteractive('df-e807f337-2094-4091-b9f1-4e9f7270a7e2')\"\n",
              "            title=\"Convert this dataframe to an interactive table.\"\n",
              "            style=\"display:none;\">\n",
              "\n",
              "  <svg xmlns=\"http://www.w3.org/2000/svg\" height=\"24px\" viewBox=\"0 -960 960 960\">\n",
              "    <path d=\"M120-120v-720h720v720H120Zm60-500h600v-160H180v160Zm220 220h160v-160H400v160Zm0 220h160v-160H400v160ZM180-400h160v-160H180v160Zm440 0h160v-160H620v160ZM180-180h160v-160H180v160Zm440 0h160v-160H620v160Z\"/>\n",
              "  </svg>\n",
              "    </button>\n",
              "\n",
              "  <style>\n",
              "    .colab-df-container {\n",
              "      display:flex;\n",
              "      gap: 12px;\n",
              "    }\n",
              "\n",
              "    .colab-df-convert {\n",
              "      background-color: #E8F0FE;\n",
              "      border: none;\n",
              "      border-radius: 50%;\n",
              "      cursor: pointer;\n",
              "      display: none;\n",
              "      fill: #1967D2;\n",
              "      height: 32px;\n",
              "      padding: 0 0 0 0;\n",
              "      width: 32px;\n",
              "    }\n",
              "\n",
              "    .colab-df-convert:hover {\n",
              "      background-color: #E2EBFA;\n",
              "      box-shadow: 0px 1px 2px rgba(60, 64, 67, 0.3), 0px 1px 3px 1px rgba(60, 64, 67, 0.15);\n",
              "      fill: #174EA6;\n",
              "    }\n",
              "\n",
              "    .colab-df-buttons div {\n",
              "      margin-bottom: 4px;\n",
              "    }\n",
              "\n",
              "    [theme=dark] .colab-df-convert {\n",
              "      background-color: #3B4455;\n",
              "      fill: #D2E3FC;\n",
              "    }\n",
              "\n",
              "    [theme=dark] .colab-df-convert:hover {\n",
              "      background-color: #434B5C;\n",
              "      box-shadow: 0px 1px 3px 1px rgba(0, 0, 0, 0.15);\n",
              "      filter: drop-shadow(0px 1px 2px rgba(0, 0, 0, 0.3));\n",
              "      fill: #FFFFFF;\n",
              "    }\n",
              "  </style>\n",
              "\n",
              "    <script>\n",
              "      const buttonEl =\n",
              "        document.querySelector('#df-e807f337-2094-4091-b9f1-4e9f7270a7e2 button.colab-df-convert');\n",
              "      buttonEl.style.display =\n",
              "        google.colab.kernel.accessAllowed ? 'block' : 'none';\n",
              "\n",
              "      async function convertToInteractive(key) {\n",
              "        const element = document.querySelector('#df-e807f337-2094-4091-b9f1-4e9f7270a7e2');\n",
              "        const dataTable =\n",
              "          await google.colab.kernel.invokeFunction('convertToInteractive',\n",
              "                                                    [key], {});\n",
              "        if (!dataTable) return;\n",
              "\n",
              "        const docLinkHtml = 'Like what you see? Visit the ' +\n",
              "          '<a target=\"_blank\" href=https://colab.research.google.com/notebooks/data_table.ipynb>data table notebook</a>'\n",
              "          + ' to learn more about interactive tables.';\n",
              "        element.innerHTML = '';\n",
              "        dataTable['output_type'] = 'display_data';\n",
              "        await google.colab.output.renderOutput(dataTable, element);\n",
              "        const docLink = document.createElement('div');\n",
              "        docLink.innerHTML = docLinkHtml;\n",
              "        element.appendChild(docLink);\n",
              "      }\n",
              "    </script>\n",
              "  </div>\n",
              "\n",
              "\n",
              "<div id=\"df-1350bbbc-d15f-4be5-a6d7-8cfd558810a5\">\n",
              "  <button class=\"colab-df-quickchart\" onclick=\"quickchart('df-1350bbbc-d15f-4be5-a6d7-8cfd558810a5')\"\n",
              "            title=\"Suggest charts\"\n",
              "            style=\"display:none;\">\n",
              "\n",
              "<svg xmlns=\"http://www.w3.org/2000/svg\" height=\"24px\"viewBox=\"0 0 24 24\"\n",
              "     width=\"24px\">\n",
              "    <g>\n",
              "        <path d=\"M19 3H5c-1.1 0-2 .9-2 2v14c0 1.1.9 2 2 2h14c1.1 0 2-.9 2-2V5c0-1.1-.9-2-2-2zM9 17H7v-7h2v7zm4 0h-2V7h2v10zm4 0h-2v-4h2v4z\"/>\n",
              "    </g>\n",
              "</svg>\n",
              "  </button>\n",
              "\n",
              "<style>\n",
              "  .colab-df-quickchart {\n",
              "      --bg-color: #E8F0FE;\n",
              "      --fill-color: #1967D2;\n",
              "      --hover-bg-color: #E2EBFA;\n",
              "      --hover-fill-color: #174EA6;\n",
              "      --disabled-fill-color: #AAA;\n",
              "      --disabled-bg-color: #DDD;\n",
              "  }\n",
              "\n",
              "  [theme=dark] .colab-df-quickchart {\n",
              "      --bg-color: #3B4455;\n",
              "      --fill-color: #D2E3FC;\n",
              "      --hover-bg-color: #434B5C;\n",
              "      --hover-fill-color: #FFFFFF;\n",
              "      --disabled-bg-color: #3B4455;\n",
              "      --disabled-fill-color: #666;\n",
              "  }\n",
              "\n",
              "  .colab-df-quickchart {\n",
              "    background-color: var(--bg-color);\n",
              "    border: none;\n",
              "    border-radius: 50%;\n",
              "    cursor: pointer;\n",
              "    display: none;\n",
              "    fill: var(--fill-color);\n",
              "    height: 32px;\n",
              "    padding: 0;\n",
              "    width: 32px;\n",
              "  }\n",
              "\n",
              "  .colab-df-quickchart:hover {\n",
              "    background-color: var(--hover-bg-color);\n",
              "    box-shadow: 0 1px 2px rgba(60, 64, 67, 0.3), 0 1px 3px 1px rgba(60, 64, 67, 0.15);\n",
              "    fill: var(--button-hover-fill-color);\n",
              "  }\n",
              "\n",
              "  .colab-df-quickchart-complete:disabled,\n",
              "  .colab-df-quickchart-complete:disabled:hover {\n",
              "    background-color: var(--disabled-bg-color);\n",
              "    fill: var(--disabled-fill-color);\n",
              "    box-shadow: none;\n",
              "  }\n",
              "\n",
              "  .colab-df-spinner {\n",
              "    border: 2px solid var(--fill-color);\n",
              "    border-color: transparent;\n",
              "    border-bottom-color: var(--fill-color);\n",
              "    animation:\n",
              "      spin 1s steps(1) infinite;\n",
              "  }\n",
              "\n",
              "  @keyframes spin {\n",
              "    0% {\n",
              "      border-color: transparent;\n",
              "      border-bottom-color: var(--fill-color);\n",
              "      border-left-color: var(--fill-color);\n",
              "    }\n",
              "    20% {\n",
              "      border-color: transparent;\n",
              "      border-left-color: var(--fill-color);\n",
              "      border-top-color: var(--fill-color);\n",
              "    }\n",
              "    30% {\n",
              "      border-color: transparent;\n",
              "      border-left-color: var(--fill-color);\n",
              "      border-top-color: var(--fill-color);\n",
              "      border-right-color: var(--fill-color);\n",
              "    }\n",
              "    40% {\n",
              "      border-color: transparent;\n",
              "      border-right-color: var(--fill-color);\n",
              "      border-top-color: var(--fill-color);\n",
              "    }\n",
              "    60% {\n",
              "      border-color: transparent;\n",
              "      border-right-color: var(--fill-color);\n",
              "    }\n",
              "    80% {\n",
              "      border-color: transparent;\n",
              "      border-right-color: var(--fill-color);\n",
              "      border-bottom-color: var(--fill-color);\n",
              "    }\n",
              "    90% {\n",
              "      border-color: transparent;\n",
              "      border-bottom-color: var(--fill-color);\n",
              "    }\n",
              "  }\n",
              "</style>\n",
              "\n",
              "  <script>\n",
              "    async function quickchart(key) {\n",
              "      const quickchartButtonEl =\n",
              "        document.querySelector('#' + key + ' button');\n",
              "      quickchartButtonEl.disabled = true;  // To prevent multiple clicks.\n",
              "      quickchartButtonEl.classList.add('colab-df-spinner');\n",
              "      try {\n",
              "        const charts = await google.colab.kernel.invokeFunction(\n",
              "            'suggestCharts', [key], {});\n",
              "      } catch (error) {\n",
              "        console.error('Error during call to suggestCharts:', error);\n",
              "      }\n",
              "      quickchartButtonEl.classList.remove('colab-df-spinner');\n",
              "      quickchartButtonEl.classList.add('colab-df-quickchart-complete');\n",
              "    }\n",
              "    (() => {\n",
              "      let quickchartButtonEl =\n",
              "        document.querySelector('#df-1350bbbc-d15f-4be5-a6d7-8cfd558810a5 button');\n",
              "      quickchartButtonEl.style.display =\n",
              "        google.colab.kernel.accessAllowed ? 'block' : 'none';\n",
              "    })();\n",
              "  </script>\n",
              "</div>\n",
              "\n",
              "  <div id=\"id_5a658999-f650-4c92-80ce-9bf1d46d962b\">\n",
              "    <style>\n",
              "      .colab-df-generate {\n",
              "        background-color: #E8F0FE;\n",
              "        border: none;\n",
              "        border-radius: 50%;\n",
              "        cursor: pointer;\n",
              "        display: none;\n",
              "        fill: #1967D2;\n",
              "        height: 32px;\n",
              "        padding: 0 0 0 0;\n",
              "        width: 32px;\n",
              "      }\n",
              "\n",
              "      .colab-df-generate:hover {\n",
              "        background-color: #E2EBFA;\n",
              "        box-shadow: 0px 1px 2px rgba(60, 64, 67, 0.3), 0px 1px 3px 1px rgba(60, 64, 67, 0.15);\n",
              "        fill: #174EA6;\n",
              "      }\n",
              "\n",
              "      [theme=dark] .colab-df-generate {\n",
              "        background-color: #3B4455;\n",
              "        fill: #D2E3FC;\n",
              "      }\n",
              "\n",
              "      [theme=dark] .colab-df-generate:hover {\n",
              "        background-color: #434B5C;\n",
              "        box-shadow: 0px 1px 3px 1px rgba(0, 0, 0, 0.15);\n",
              "        filter: drop-shadow(0px 1px 2px rgba(0, 0, 0, 0.3));\n",
              "        fill: #FFFFFF;\n",
              "      }\n",
              "    </style>\n",
              "    <button class=\"colab-df-generate\" onclick=\"generateWithVariable('df')\"\n",
              "            title=\"Generate code using this dataframe.\"\n",
              "            style=\"display:none;\">\n",
              "\n",
              "  <svg xmlns=\"http://www.w3.org/2000/svg\" height=\"24px\"viewBox=\"0 0 24 24\"\n",
              "       width=\"24px\">\n",
              "    <path d=\"M7,19H8.4L18.45,9,17,7.55,7,17.6ZM5,21V16.75L18.45,3.32a2,2,0,0,1,2.83,0l1.4,1.43a1.91,1.91,0,0,1,.58,1.4,1.91,1.91,0,0,1-.58,1.4L9.25,21ZM18.45,9,17,7.55Zm-12,3A5.31,5.31,0,0,0,4.9,8.1,5.31,5.31,0,0,0,1,6.5,5.31,5.31,0,0,0,4.9,4.9,5.31,5.31,0,0,0,6.5,1,5.31,5.31,0,0,0,8.1,4.9,5.31,5.31,0,0,0,12,6.5,5.46,5.46,0,0,0,6.5,12Z\"/>\n",
              "  </svg>\n",
              "    </button>\n",
              "    <script>\n",
              "      (() => {\n",
              "      const buttonEl =\n",
              "        document.querySelector('#id_5a658999-f650-4c92-80ce-9bf1d46d962b button.colab-df-generate');\n",
              "      buttonEl.style.display =\n",
              "        google.colab.kernel.accessAllowed ? 'block' : 'none';\n",
              "\n",
              "      buttonEl.onclick = () => {\n",
              "        google.colab.notebook.generateWithVariable('df');\n",
              "      }\n",
              "      })();\n",
              "    </script>\n",
              "  </div>\n",
              "\n",
              "    </div>\n",
              "  </div>\n"
            ],
            "application/vnd.google.colaboratory.intrinsic+json": {
              "type": "dataframe",
              "variable_name": "df",
              "summary": "{\n  \"name\": \"df\",\n  \"rows\": 140,\n  \"fields\": [\n    {\n      \"column\": \"CustomerID\",\n      \"properties\": {\n        \"dtype\": \"number\",\n        \"std\": 43,\n        \"min\": 1,\n        \"max\": 150,\n        \"num_unique_values\": 140,\n        \"samples\": [\n          136,\n          24,\n          66\n        ],\n        \"semantic_type\": \"\",\n        \"description\": \"\"\n      }\n    },\n    {\n      \"column\": \"Age\",\n      \"properties\": {\n        \"dtype\": \"number\",\n        \"std\": 16.162372315431423,\n        \"min\": -1.0,\n        \"max\": 69.0,\n        \"num_unique_values\": 50,\n        \"samples\": [\n          38.0,\n          69.0,\n          56.0\n        ],\n        \"semantic_type\": \"\",\n        \"description\": \"\"\n      }\n    },\n    {\n      \"column\": \"Gender\",\n      \"properties\": {\n        \"dtype\": \"category\",\n        \"num_unique_values\": 6,\n        \"samples\": [\n          \"Female\",\n          \"Unknown\",\n          \"M\"\n        ],\n        \"semantic_type\": \"\",\n        \"description\": \"\"\n      }\n    },\n    {\n      \"column\": \"AnnualIncome\",\n      \"properties\": {\n        \"dtype\": \"number\",\n        \"std\": 36431.91632136678,\n        \"min\": 20728.0,\n        \"max\": 201015.0,\n        \"num_unique_values\": 140,\n        \"samples\": [\n          75069.0,\n          124185.0,\n          117856.0\n        ],\n        \"semantic_type\": \"\",\n        \"description\": \"\"\n      }\n    },\n    {\n      \"column\": \"SpendingScore\",\n      \"properties\": {\n        \"dtype\": \"number\",\n        \"std\": 33,\n        \"min\": 1,\n        \"max\": 110,\n        \"num_unique_values\": 74,\n        \"samples\": [\n          27,\n          92,\n          50\n        ],\n        \"semantic_type\": \"\",\n        \"description\": \"\"\n      }\n    }\n  ]\n}"
            }
          },
          "metadata": {},
          "execution_count": 8
        }
      ]
    },
    {
      "cell_type": "markdown",
      "source": [
        "Step 6: Check for Inconsistencies\n",
        "Detect inconsistencies in the dataset. For example:\n",
        "\n",
        "Gender column may have inconsistent or invalid entries.\n",
        "Age column may have invalid values like negative numbers or unrealistic ages."
      ],
      "metadata": {
        "id": "eM0WJF0-zMX5"
      }
    },
    {
      "cell_type": "code",
      "source": [
        "# Check for inconsistencies in the Gender column\n",
        "valid_genders = ['Male', 'Female']\n",
        "inconsistent_gender = df[~df['Gender'].isin(valid_genders)]\n",
        "print(inconsistent_gender)\n",
        "print(\"\\n--------------------------------------------------------------\\n\")\n",
        "print(df)\n",
        "# Fix inconsistent gender values\n",
        "df['Gender'].replace({'M': 'Male', 'F': 'Female'}, inplace=True)\n",
        "print(\"\\n--------------------------------------------------------------\\n\")\n",
        "print(df)\n",
        "\n",
        "print(\"\\n--------------------------------------------------------------\\n\")\n",
        "# Check for invalid Age values (e.g., negative or too high)\n",
        "invalid_ages = df[(df['Age'] < 0) | (df['Age'] > 100)]\n",
        "print(invalid_ages)\n",
        "print(\"\\n--------------------------------------------------------------\\n\")\n",
        "\n",
        "# Remove rows with invalid ages\n",
        "df = df[(df['Age'] >= 0) & (df['Age'] <= 100)]"
      ],
      "metadata": {
        "colab": {
          "base_uri": "https://localhost:8080/"
        },
        "id": "2lQ6ebeVzQeU",
        "outputId": "df7495fe-56f7-4e4c-f3f9-03fad4a6d21d"
      },
      "execution_count": null,
      "outputs": [
        {
          "output_type": "stream",
          "name": "stdout",
          "text": [
            "     CustomerID        Age   Gender  AnnualIncome  SpendingScore\n",
            "1           143  31.000000  Unknown       70517.0             90\n",
            "2            32  44.000000  Unknown       85417.0              1\n",
            "3            30  42.000000        F      146131.0             78\n",
            "5            61  -1.000000    Other      121042.0            110\n",
            "7           148  31.000000  Unknown       99459.0             47\n",
            "..          ...        ...      ...           ...            ...\n",
            "149          21  41.173333    Other       79101.0            110\n",
            "151         107  18.000000        F      112920.0             80\n",
            "152          15  57.000000  Unknown       55247.0             92\n",
            "153          93  64.000000        M      127112.0             74\n",
            "154         103  42.000000        F      125891.0             43\n",
            "\n",
            "[83 rows x 5 columns]\n",
            "\n",
            "--------------------------------------------------------------\n",
            "\n",
            "     CustomerID   Age   Gender  AnnualIncome  SpendingScore\n",
            "0            82  48.0   Female       47350.0             88\n",
            "1           143  31.0  Unknown       70517.0             90\n",
            "2            32  44.0  Unknown       85417.0              1\n",
            "3            30  42.0        F      146131.0             78\n",
            "4           119  59.0   Female       57841.0             27\n",
            "..          ...   ...      ...           ...            ...\n",
            "150          72  59.0     Male       40764.0             82\n",
            "151         107  18.0        F      112920.0             80\n",
            "152          15  57.0  Unknown       55247.0             92\n",
            "153          93  64.0        M      127112.0             74\n",
            "154         103  42.0        F      125891.0             43\n",
            "\n",
            "[140 rows x 5 columns]\n",
            "\n",
            "--------------------------------------------------------------\n",
            "\n",
            "     CustomerID   Age   Gender  AnnualIncome  SpendingScore\n",
            "0            82  48.0   Female       47350.0             88\n",
            "1           143  31.0  Unknown       70517.0             90\n",
            "2            32  44.0  Unknown       85417.0              1\n",
            "3            30  42.0   Female      146131.0             78\n",
            "4           119  59.0   Female       57841.0             27\n",
            "..          ...   ...      ...           ...            ...\n",
            "150          72  59.0     Male       40764.0             82\n",
            "151         107  18.0   Female      112920.0             80\n",
            "152          15  57.0  Unknown       55247.0             92\n",
            "153          93  64.0     Male      127112.0             74\n",
            "154         103  42.0   Female      125891.0             43\n",
            "\n",
            "[140 rows x 5 columns]\n",
            "\n",
            "--------------------------------------------------------------\n",
            "\n",
            "     CustomerID  Age  Gender  AnnualIncome  SpendingScore\n",
            "5            61 -1.0   Other      121042.0            110\n",
            "16           31 -1.0    Male       60158.0            110\n",
            "17           91 -1.0  Female       85953.0            110\n",
            "65            1 -1.0   Other      201015.0            110\n",
            "123         121 -1.0   Other       85510.0            110\n",
            "\n",
            "--------------------------------------------------------------\n",
            "\n"
          ]
        },
        {
          "output_type": "stream",
          "name": "stderr",
          "text": [
            "<ipython-input-9-41e7a533b655>:8: FutureWarning: A value is trying to be set on a copy of a DataFrame or Series through chained assignment using an inplace method.\n",
            "The behavior will change in pandas 3.0. This inplace method will never work because the intermediate object on which we are setting values always behaves as a copy.\n",
            "\n",
            "For example, when doing 'df[col].method(value, inplace=True)', try using 'df.method({col: value}, inplace=True)' or df[col] = df[col].method(value) instead, to perform the operation inplace on the original object.\n",
            "\n",
            "\n",
            "  df['Gender'].replace({'M': 'Male', 'F': 'Female'}, inplace=True)\n",
            "<ipython-input-9-41e7a533b655>:8: SettingWithCopyWarning: \n",
            "A value is trying to be set on a copy of a slice from a DataFrame\n",
            "\n",
            "See the caveats in the documentation: https://pandas.pydata.org/pandas-docs/stable/user_guide/indexing.html#returning-a-view-versus-a-copy\n",
            "  df['Gender'].replace({'M': 'Male', 'F': 'Female'}, inplace=True)\n"
          ]
        }
      ]
    },
    {
      "cell_type": "markdown",
      "source": [
        "Step 7: Visualize Data for Better Understanding\n",
        "Visualize data to identify patterns, relationships, and potential anomalies.\n",
        "\n",
        "Use visualizations like histograms, box plots, or scatter plots to inspect the distribution of numerical columns."
      ],
      "metadata": {
        "id": "RXkUeqLnzQ20"
      }
    },
    {
      "cell_type": "code",
      "source": [
        "import matplotlib.pyplot as plt\n",
        "\n",
        "# Histogram for Age distribution\n",
        "df['Age'].hist(bins=10)\n",
        "plt.title('Age Distribution')\n",
        "plt.xlabel('Age')\n",
        "plt.ylabel('Frequency')\n",
        "plt.show()\n",
        "\n",
        "# Box plot for AnnualIncome to visualize outliers\n",
        "plt.boxplot(df['AnnualIncome'])\n",
        "plt.title('Boxplot for Annual Income')\n",
        "plt.show()\n",
        "\n",
        "# Scatter plot between AnnualIncome and SpendingScore\n",
        "plt.scatter(df['AnnualIncome'], df['SpendingScore'])\n",
        "plt.title('Annual Income vs Spending Score')\n",
        "plt.xlabel('Annual Income')\n",
        "plt.ylabel('Spending Score')\n",
        "plt.show()"
      ],
      "metadata": {
        "colab": {
          "base_uri": "https://localhost:8080/",
          "height": 1000
        },
        "id": "8vA4iLGTzTB6",
        "outputId": "097dd47c-fda7-4e2c-9409-d8eae7ca110e"
      },
      "execution_count": null,
      "outputs": [
        {
          "output_type": "display_data",
          "data": {
            "text/plain": [
              "<Figure size 640x480 with 1 Axes>"
            ],
            "image/png": "[encoded data removed]"
          },
          "metadata": {}
        },
        {
          "output_type": "display_data",
          "data": {
            "text/plain": [
              "<Figure size 640x480 with 1 Axes>"
            ],
            "image/png": "[encoded data removed]"
          },
          "metadata": {}
        },
        {
          "output_type": "display_data",
          "data": {
            "text/plain": [
              "<Figure size 640x480 with 1 Axes>"
            ],
            "image/png": "[encoded data removed]"
          },
          "metadata": {}
        }
      ]
    },
    {
      "cell_type": "markdown",
      "source": [
        "Step 8: Export the Cleaned Dataset\n",
        "Once the data has been cleaned and validated, export it to a new CSV file for further use or analysis."
      ],
      "metadata": {
        "id": "jurK04D8zVUY"
      }
    },
    {
      "cell_type": "code",
      "source": [
        "#Export the cleaned dataset to a new CSV file\n",
        "df.to_csv('cleaned_ecommerce_data.csv', index=False)\n",
        "print(\"Cleaned dataset exported to 'cleaned_ecommerce_data.csv'\")"
      ],
      "metadata": {
        "colab": {
          "base_uri": "https://localhost:8080/"
        },
        "id": "5E8o5-YCzWYO",
        "outputId": "73b9ff0f-8e21-4a66-8dd6-91c4d3d5b7c9"
      },
      "execution_count": null,
      "outputs": [
        {
          "output_type": "stream",
          "name": "stdout",
          "text": [
            "Cleaned dataset exported to 'cleaned_ecommerce_data.csv'\n"
          ]
        }
      ]
    },
    {
      "cell_type": "markdown",
      "source": [
        "Step 9: Additional Testing - Validating Data Ranges\n",
        "Validate the data ranges to ensure that values make sense within the context of the dataset. For instance:\n",
        "The SpendingScore should be between 1 and 100. The AnnualIncome should not be negative."
      ],
      "metadata": {
        "id": "SCZNhv5RzX_j"
      }
    },
    {
      "cell_type": "code",
      "source": [
        "# Validate that SpendingScore is within the range 1 to 100\n",
        "invalid_spending_scores = df[(df['SpendingScore'] < 1) | (df['SpendingScore'] > 100)]\n",
        "print(f\"Invalid SpendingScore entries:\\n{invalid_spending_scores}\")\n",
        "\n",
        "# Handle invalid spending scores (e.g., capping values or removing rows)\n",
        "df['SpendingScore'] = df['SpendingScore'].clip(1, 100)\n",
        "\n",
        "# Check for negative AnnualIncome values\n",
        "invalid_income = df[df['AnnualIncome'] < 0]\n",
        "print(f\"Invalid AnnualIncome entries:\\n{invalid_income}\")\n",
        "\n",
        "# Handle invalid income values (e.g., remove rows or set to 0)\n",
        "df['AnnualIncome'] = df['AnnualIncome'].apply(lambda x: max(x, 0))"
      ],
      "metadata": {
        "colab": {
          "base_uri": "https://localhost:8080/"
        },
        "id": "5mBmZnKrzZAv",
        "outputId": "e93a196e-859d-4712-ddac-4a803e1c0094"
      },
      "execution_count": null,
      "outputs": [
        {
          "output_type": "stream",
          "name": "stdout",
          "text": [
            "Invalid SpendingScore entries:\n",
            "     CustomerID        Age   Gender  AnnualIncome  SpendingScore\n",
            "61           11  28.000000   Female      115435.0            110\n",
            "66          111  28.000000   Female       38888.0            110\n",
            "71           41  20.000000    Other       24611.0            110\n",
            "97           81  31.000000    Other      120386.0            110\n",
            "103          71  23.000000     Male      109643.0            110\n",
            "108         141  54.000000    Other       66959.0            110\n",
            "141         131  41.000000  Unknown       91180.0            110\n",
            "149          21  41.173333    Other       79101.0            110\n",
            "Invalid AnnualIncome entries:\n",
            "Empty DataFrame\n",
            "Columns: [CustomerID, Age, Gender, AnnualIncome, SpendingScore]\n",
            "Index: []\n"
          ]
        },
        {
          "output_type": "stream",
          "name": "stderr",
          "text": [
            "<ipython-input-12-7d0ea214867f>:6: SettingWithCopyWarning: \n",
            "A value is trying to be set on a copy of a slice from a DataFrame.\n",
            "Try using .loc[row_indexer,col_indexer] = value instead\n",
            "\n",
            "See the caveats in the documentation: https://pandas.pydata.org/pandas-docs/stable/user_guide/indexing.html#returning-a-view-versus-a-copy\n",
            "  df['SpendingScore'] = df['SpendingScore'].clip(1, 100)\n",
            "<ipython-input-12-7d0ea214867f>:13: SettingWithCopyWarning: \n",
            "A value is trying to be set on a copy of a slice from a DataFrame.\n",
            "Try using .loc[row_indexer,col_indexer] = value instead\n",
            "\n",
            "See the caveats in the documentation: https://pandas.pydata.org/pandas-docs/stable/user_guide/indexing.html#returning-a-view-versus-a-copy\n",
            "  df['AnnualIncome'] = df['AnnualIncome'].apply(lambda x: max(x, 0))\n"
          ]
        }
      ]
    },
    {
      "cell_type": "markdown",
      "source": [
        "Step 10: Advanced Analysis - Correlation Check\n",
        "Check correlations between numerical columns to identify any interesting relationships.\n",
        "This is useful for understanding which factors influence certain variables (like SpendingScore)."
      ],
      "metadata": {
        "id": "bhgHsEZKzbbe"
      }
    },
    {
      "cell_type": "code",
      "source": [
        "#Select only the numerical columns\n",
        "numeric_df = df.select_dtypes(include=['float64', 'int64'])\n",
        "\n",
        "#Calculate the correlation matrix for numeric columns\n",
        "correlation_matrix = numeric_df.corr()\n",
        "\n",
        "#Display the correlation matrix\n",
        "print(\"Correlation matrix : \", correlation_matrix)"
      ],
      "metadata": {
        "colab": {
          "base_uri": "https://localhost:8080/"
        },
        "id": "qyayOV26zcid",
        "outputId": "5626d754-1eb6-4640-fea8-56fc0b779aff"
      },
      "execution_count": null,
      "outputs": [
        {
          "output_type": "stream",
          "name": "stdout",
          "text": [
            "Correlation matrix :                 CustomerID       Age  AnnualIncome  SpendingScore\n",
            "CustomerID       1.000000  0.008901     -0.123846      -0.047840\n",
            "Age              0.008901  1.000000     -0.061816       0.060613\n",
            "AnnualIncome    -0.123846 -0.061816      1.000000       0.021237\n",
            "SpendingScore   -0.047840  0.060613      0.021237       1.000000\n"
          ]
        }
      ]
    }
  ]
}